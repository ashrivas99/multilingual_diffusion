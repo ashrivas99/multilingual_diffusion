{
 "cells": [
  {
   "cell_type": "markdown",
   "id": "77127407",
   "metadata": {},
   "source": [
    "## Define parameters"
   ]
  },
  {
   "cell_type": "code",
   "execution_count": 5,
   "id": "683093c7",
   "metadata": {},
   "outputs": [],
   "source": [
    "codes = [\"0041\", \"0641\", \"0915\"]  # list of hex Unicode codes (e.g. Latin 'A', Arabic, Devanagari)\n",
    "copies = 10                     # number of images per code-point\n",
    "out_dir = \"data_tiny\"     "
   ]
  },
  {
   "cell_type": "markdown",
   "id": "0cda4024",
   "metadata": {},
   "source": [
    "## Generate the mini dataset"
   ]
  },
  {
   "cell_type": "code",
   "execution_count": 6,
   "id": "874ff6ec",
   "metadata": {},
   "outputs": [
    {
     "name": "stdout",
     "output_type": "stream",
     "text": [
      "✅  wrote 30 rows to /workspaces/multilingual_diffusion/data_tiny/metadata.jsonl; now call build_dataset.py --out-dir /workspaces/multilingual_diffusion/data_tiny --csv /workspaces/multilingual_diffusion/data_tiny/char_dataset.csv --images-per-char 1 to actually render the PNGs\n"
     ]
    }
   ],
   "source": [
    "import pandas as pd\n",
    "from pathlib import Path\n",
    "\n",
    "# --- load the full table (assuming multilingual_data.csv is in the current working directory) -----------\n",
    "full = pd.read_csv(\"multilingual_data.csv\", dtype=str)  # multilingual_data.csv should have columns: Unicode,Character,caption\n",
    "sel = full[full[\"Unicode\"].isin(codes)].reset_index(drop=True)\n",
    "\n",
    "if sel.empty:\n",
    "    raise SystemExit(\"None of the given codes found in multilingual_data.csv\")\n",
    "\n",
    "rows = []\n",
    "for _, row in sel.iterrows():\n",
    "    for i in range(copies):\n",
    "        fname = f\"{row.Unicode}_{i:03d}.png\"\n",
    "        rows.append({\"file_name\": fname, \"caption\": row.caption,\n",
    "                     \"Unicode\": row.Unicode, \"Character\": row.Character})\n",
    "\n",
    "tiny = pd.DataFrame(rows)\n",
    "\n",
    "# --- export CSV + JSONL ---------------------------------------------------------\n",
    "out_path = Path(out_dir).resolve()\n",
    "out_path.mkdir(exist_ok=True)\n",
    "\n",
    "tiny.to_csv(out_path / \"char_dataset.csv\", index=False)\n",
    "tiny[[\"file_name\", \"caption\"]].to_json(out_path / \"metadata.jsonl\",\n",
    "                                       orient=\"records\", lines=True,\n",
    "                                       force_ascii=False)\n",
    "\n",
    "print(f\"✅  wrote {len(tiny)} rows to {out_path/'metadata.jsonl'}; \"\n",
    "      f\"now call build_dataset.py --out-dir {out_path} --csv {out_path/'char_dataset.csv'} \"\n",
    "      f\"--images-per-char 1 to actually render the PNGs\")"
   ]
  },
  {
   "cell_type": "code",
   "execution_count": null,
   "id": "51131557",
   "metadata": {},
   "outputs": [],
   "source": []
  }
 ],
 "metadata": {
  "kernelspec": {
   "display_name": "Python 3",
   "language": "python",
   "name": "python3"
  },
  "language_info": {
   "codemirror_mode": {
    "name": "ipython",
    "version": 3
   },
   "file_extension": ".py",
   "mimetype": "text/x-python",
   "name": "python",
   "nbconvert_exporter": "python",
   "pygments_lexer": "ipython3",
   "version": "3.12.1"
  }
 },
 "nbformat": 4,
 "nbformat_minor": 5
}
